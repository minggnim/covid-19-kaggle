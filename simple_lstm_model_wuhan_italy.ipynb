{
 "cells": [
  {
   "cell_type": "code",
   "execution_count": 1,
   "metadata": {},
   "outputs": [],
   "source": [
    "import matplotlib as mpl\n",
    "import matplotlib.pyplot as plt\n",
    "\n",
    "import pandas as pd\n",
    "import numpy as np\n",
    "import tensorflow as tf\n",
    "\n",
    "mpl.rcParams['figure.figsize'] = (8, 6)\n",
    "mpl.rcParams['axes.grid'] = False"
   ]
  },
  {
   "cell_type": "code",
   "execution_count": 2,
   "metadata": {},
   "outputs": [],
   "source": [
    "train_df = pd.read_csv(\"covid19-global-forecasting-week-1/train.csv\")\n",
    "test_df = pd.read_csv(\"covid19-global-forecasting-week-1/test.csv\")"
   ]
  },
  {
   "cell_type": "code",
   "execution_count": 3,
   "metadata": {},
   "outputs": [
    {
     "data": {
      "text/html": [
       "<div>\n",
       "<style scoped>\n",
       "    .dataframe tbody tr th:only-of-type {\n",
       "        vertical-align: middle;\n",
       "    }\n",
       "\n",
       "    .dataframe tbody tr th {\n",
       "        vertical-align: top;\n",
       "    }\n",
       "\n",
       "    .dataframe thead th {\n",
       "        text-align: right;\n",
       "    }\n",
       "</style>\n",
       "<table border=\"1\" class=\"dataframe\">\n",
       "  <thead>\n",
       "    <tr style=\"text-align: right;\">\n",
       "      <th></th>\n",
       "      <th>Id</th>\n",
       "      <th>Province/State</th>\n",
       "      <th>Country/Region</th>\n",
       "      <th>Lat</th>\n",
       "      <th>Long</th>\n",
       "      <th>Date</th>\n",
       "      <th>ConfirmedCases</th>\n",
       "      <th>Fatalities</th>\n",
       "    </tr>\n",
       "  </thead>\n",
       "  <tbody>\n",
       "    <tr>\n",
       "      <th>0</th>\n",
       "      <td>1</td>\n",
       "      <td>NaN</td>\n",
       "      <td>Afghanistan</td>\n",
       "      <td>33.0</td>\n",
       "      <td>65.0</td>\n",
       "      <td>2020-01-22</td>\n",
       "      <td>0.0</td>\n",
       "      <td>0.0</td>\n",
       "    </tr>\n",
       "    <tr>\n",
       "      <th>1</th>\n",
       "      <td>2</td>\n",
       "      <td>NaN</td>\n",
       "      <td>Afghanistan</td>\n",
       "      <td>33.0</td>\n",
       "      <td>65.0</td>\n",
       "      <td>2020-01-23</td>\n",
       "      <td>0.0</td>\n",
       "      <td>0.0</td>\n",
       "    </tr>\n",
       "    <tr>\n",
       "      <th>2</th>\n",
       "      <td>3</td>\n",
       "      <td>NaN</td>\n",
       "      <td>Afghanistan</td>\n",
       "      <td>33.0</td>\n",
       "      <td>65.0</td>\n",
       "      <td>2020-01-24</td>\n",
       "      <td>0.0</td>\n",
       "      <td>0.0</td>\n",
       "    </tr>\n",
       "    <tr>\n",
       "      <th>3</th>\n",
       "      <td>4</td>\n",
       "      <td>NaN</td>\n",
       "      <td>Afghanistan</td>\n",
       "      <td>33.0</td>\n",
       "      <td>65.0</td>\n",
       "      <td>2020-01-25</td>\n",
       "      <td>0.0</td>\n",
       "      <td>0.0</td>\n",
       "    </tr>\n",
       "    <tr>\n",
       "      <th>4</th>\n",
       "      <td>5</td>\n",
       "      <td>NaN</td>\n",
       "      <td>Afghanistan</td>\n",
       "      <td>33.0</td>\n",
       "      <td>65.0</td>\n",
       "      <td>2020-01-26</td>\n",
       "      <td>0.0</td>\n",
       "      <td>0.0</td>\n",
       "    </tr>\n",
       "  </tbody>\n",
       "</table>\n",
       "</div>"
      ],
      "text/plain": [
       "   Id Province/State Country/Region   Lat  Long        Date  ConfirmedCases  \\\n",
       "0   1            NaN    Afghanistan  33.0  65.0  2020-01-22             0.0   \n",
       "1   2            NaN    Afghanistan  33.0  65.0  2020-01-23             0.0   \n",
       "2   3            NaN    Afghanistan  33.0  65.0  2020-01-24             0.0   \n",
       "3   4            NaN    Afghanistan  33.0  65.0  2020-01-25             0.0   \n",
       "4   5            NaN    Afghanistan  33.0  65.0  2020-01-26             0.0   \n",
       "\n",
       "   Fatalities  \n",
       "0         0.0  \n",
       "1         0.0  \n",
       "2         0.0  \n",
       "3         0.0  \n",
       "4         0.0  "
      ]
     },
     "execution_count": 3,
     "metadata": {},
     "output_type": "execute_result"
    }
   ],
   "source": [
    "train_df.head()"
   ]
  },
  {
   "cell_type": "code",
   "execution_count": 4,
   "metadata": {},
   "outputs": [],
   "source": [
    "def univariate_data(dataset, start_index, end_index, history_size, target_size):\n",
    "    data = []\n",
    "    labels = []\n",
    "\n",
    "    start_index = start_index + history_size\n",
    "    if end_index is None:\n",
    "        end_index = len(dataset) - target_size\n",
    "\n",
    "    for i in range(start_index, end_index):\n",
    "        indices = range(i-history_size, i)\n",
    "        # Reshape data from (history_size,) to (history_size, 1)\n",
    "        data.append(np.reshape(dataset[indices], (history_size, 1)))\n",
    "        labels.append(dataset[i+target_size])\n",
    "        \n",
    "    return np.array(data), np.array(labels)"
   ]
  },
  {
   "cell_type": "code",
   "execution_count": 28,
   "metadata": {},
   "outputs": [],
   "source": [
    "wuhan_data = train_df[(train_df['Country/Region']=='China') & (train_df['Province/State']=='Hubei')][['Date', 'ConfirmedCases']].set_index('Date')"
   ]
  },
  {
   "cell_type": "code",
   "execution_count": 29,
   "metadata": {},
   "outputs": [
    {
     "data": {
      "text/html": [
       "<div>\n",
       "<style scoped>\n",
       "    .dataframe tbody tr th:only-of-type {\n",
       "        vertical-align: middle;\n",
       "    }\n",
       "\n",
       "    .dataframe tbody tr th {\n",
       "        vertical-align: top;\n",
       "    }\n",
       "\n",
       "    .dataframe thead th {\n",
       "        text-align: right;\n",
       "    }\n",
       "</style>\n",
       "<table border=\"1\" class=\"dataframe\">\n",
       "  <thead>\n",
       "    <tr style=\"text-align: right;\">\n",
       "      <th></th>\n",
       "      <th>ConfirmedCases</th>\n",
       "    </tr>\n",
       "    <tr>\n",
       "      <th>Date</th>\n",
       "      <th></th>\n",
       "    </tr>\n",
       "  </thead>\n",
       "  <tbody>\n",
       "    <tr>\n",
       "      <th>2020-01-22</th>\n",
       "      <td>444.0</td>\n",
       "    </tr>\n",
       "    <tr>\n",
       "      <th>2020-01-23</th>\n",
       "      <td>444.0</td>\n",
       "    </tr>\n",
       "    <tr>\n",
       "      <th>2020-01-24</th>\n",
       "      <td>549.0</td>\n",
       "    </tr>\n",
       "    <tr>\n",
       "      <th>2020-01-25</th>\n",
       "      <td>761.0</td>\n",
       "    </tr>\n",
       "    <tr>\n",
       "      <th>2020-01-26</th>\n",
       "      <td>1058.0</td>\n",
       "    </tr>\n",
       "  </tbody>\n",
       "</table>\n",
       "</div>"
      ],
      "text/plain": [
       "            ConfirmedCases\n",
       "Date                      \n",
       "2020-01-22           444.0\n",
       "2020-01-23           444.0\n",
       "2020-01-24           549.0\n",
       "2020-01-25           761.0\n",
       "2020-01-26          1058.0"
      ]
     },
     "execution_count": 29,
     "metadata": {},
     "output_type": "execute_result"
    }
   ],
   "source": [
    "wuhan_data.head()"
   ]
  },
  {
   "cell_type": "code",
   "execution_count": 30,
   "metadata": {},
   "outputs": [
    {
     "data": {
      "text/plain": [
       "array([<matplotlib.axes._subplots.AxesSubplot object at 0x137c24278>],\n",
       "      dtype=object)"
      ]
     },
     "execution_count": 30,
     "metadata": {},
     "output_type": "execute_result"
    },
    {
     "data": {
      "image/png": "[encoded data removed]",
      "text/plain": [
       "<Figure size 576x432 with 1 Axes>"
      ]
     },
     "metadata": {
      "needs_background": "light"
     },
     "output_type": "display_data"
    }
   ],
   "source": [
    "wuhan_data.plot(subplots=True)"
   ]
  },
  {
   "cell_type": "code",
   "execution_count": 40,
   "metadata": {},
   "outputs": [],
   "source": [
    "wuhan_data_mean = wuhan_data.mean()\n",
    "wuhan_data_std = wuhan_data.std()\n",
    "wuhan_data = (wuhan_data - wuhan_data_mean) / wuhan_data_std"
   ]
  },
  {
   "cell_type": "code",
   "execution_count": 86,
   "metadata": {},
   "outputs": [],
   "source": [
    "x_train_uni, y_train_uni = univariate_data(wuhan_data.values, 0, len(wuhan_data), 10, 0)"
   ]
  },
  {
   "cell_type": "code",
   "execution_count": 98,
   "metadata": {},
   "outputs": [
    {
     "data": {
      "image/png": "[encoded data removed]",
      "text/plain": [
       "<Figure size 576x432 with 1 Axes>"
      ]
     },
     "metadata": {
      "needs_background": "light"
     },
     "output_type": "display_data"
    }
   ],
   "source": [
    "# italy data\n",
    "italy_data = train_df[(train_df['Country/Region']=='Italy')][['Date', 'ConfirmedCases']].set_index('Date')\n",
    "italy_data.plot(subplots=True)\n",
    "italy_data.values\n",
    "\n",
    "italy_data_mean = italy_data.mean()\n",
    "italy_data_std = italy_data.std()\n",
    "italy_data = (italy_data - italy_data_mean) / italy_data_std\n",
    "x_train_uni, y_train_uni = univariate_data(italy_data.values, 0, len(italy_data), 10, 0)"
   ]
  },
  {
   "cell_type": "code",
   "execution_count": 99,
   "metadata": {},
   "outputs": [],
   "source": [
    "def create_time_steps(length):\n",
    "    return list(range(-length, 0))\n",
    "\n",
    "def show_plot(plot_data, delta, title):\n",
    "    labels = ['History', 'True Future', 'Model Prediction']\n",
    "    marker = ['.-', 'rx', 'go']\n",
    "    time_steps = create_time_steps(plot_data[0].shape[0])\n",
    "    if delta:\n",
    "        future = delta\n",
    "    else:\n",
    "        future = 0\n",
    "\n",
    "    plt.title(title)\n",
    "    for i, x in enumerate(plot_data):\n",
    "        if i:\n",
    "            plt.plot(future, plot_data[i], marker[i], markersize=10,\n",
    "                   label=labels[i])\n",
    "        else:\n",
    "            plt.plot(time_steps, plot_data[i].flatten(), marker[i], label=labels[i])\n",
    "    plt.legend()\n",
    "    plt.xlim([time_steps[0], (future+2)*2])\n",
    "    plt.xlabel('Time-Step')\n",
    "    return plt"
   ]
  },
  {
   "cell_type": "code",
   "execution_count": 107,
   "metadata": {},
   "outputs": [],
   "source": [
    "# show_plot([x_train_uni[-1], y_train_uni[-1]], 0, 'Sample Example')"
   ]
  },
  {
   "cell_type": "code",
   "execution_count": 108,
   "metadata": {},
   "outputs": [
    {
     "data": {
      "text/plain": [
       "47"
      ]
     },
     "execution_count": 108,
     "metadata": {},
     "output_type": "execute_result"
    }
   ],
   "source": [
    "len(x_train_uni)"
   ]
  },
  {
   "cell_type": "code",
   "execution_count": 109,
   "metadata": {},
   "outputs": [],
   "source": [
    "# show_plot([x_train_uni[-1], y_train_uni[-1], np.mean(x_train_uni[-1])], 0,\n",
    "#            'Baseline Prediction Example')"
   ]
  },
  {
   "cell_type": "code",
   "execution_count": 103,
   "metadata": {},
   "outputs": [],
   "source": [
    "BATCH_SIZE = 12\n",
    "BUFFER_SIZE = 50\n",
    "\n",
    "train_univariate = tf.data.Dataset.from_tensor_slices((x_train_uni, y_train_uni))\n",
    "train_univariate = train_univariate.cache().shuffle(BUFFER_SIZE).batch(BATCH_SIZE).repeat()"
   ]
  },
  {
   "cell_type": "code",
   "execution_count": 104,
   "metadata": {},
   "outputs": [],
   "source": [
    "simple_lstm_model = tf.keras.models.Sequential([\n",
    "    tf.keras.layers.LSTM(8, input_shape=x_train_uni.shape[-2:]),\n",
    "    tf.keras.layers.Dense(1)\n",
    "])\n",
    "\n",
    "simple_lstm_model.compile(optimizer='adam', loss='mse', metrics=['mae', 'mse'])"
   ]
  },
  {
   "cell_type": "code",
   "execution_count": 105,
   "metadata": {
    "scrolled": true
   },
   "outputs": [
    {
     "name": "stdout",
     "output_type": "stream",
     "text": [
      "Train for 50 steps\n",
      "Epoch 1/30\n",
      "50/50 [==============================] - 2s 49ms/step - loss: 1.4967 - mae: 0.8603 - mse: 1.5026\n",
      "Epoch 2/30\n",
      "50/50 [==============================] - 0s 8ms/step - loss: 1.1023 - mae: 0.6977 - mse: 1.1000\n",
      "Epoch 3/30\n",
      "50/50 [==============================] - 0s 9ms/step - loss: 0.7152 - mae: 0.5432 - mse: 0.7134\n",
      "Epoch 4/30\n",
      "50/50 [==============================] - 0s 9ms/step - loss: 0.3349 - mae: 0.3756 - mse: 0.3351\n",
      "Epoch 5/30\n",
      "50/50 [==============================] - 0s 9ms/step - loss: 0.0990 - mae: 0.2009 - mse: 0.0994\n",
      "Epoch 6/30\n",
      "50/50 [==============================] - 0s 9ms/step - loss: 0.0497 - mae: 0.1405 - mse: 0.0501\n",
      "Epoch 7/30\n",
      "50/50 [==============================] - 0s 8ms/step - loss: 0.0390 - mae: 0.1273 - mse: 0.0389\n",
      "Epoch 8/30\n",
      "50/50 [==============================] - 0s 10ms/step - loss: 0.0341 - mae: 0.1242 - mse: 0.0342\n",
      "Epoch 9/30\n",
      "50/50 [==============================] - 0s 9ms/step - loss: 0.0284 - mae: 0.1170 - mse: 0.0283\n",
      "Epoch 10/30\n",
      "50/50 [==============================] - 0s 9ms/step - loss: 0.0251 - mae: 0.1124 - mse: 0.0251\n",
      "Epoch 11/30\n",
      "50/50 [==============================] - 0s 9ms/step - loss: 0.0220 - mae: 0.1076 - mse: 0.0220\n",
      "Epoch 12/30\n",
      "50/50 [==============================] - 0s 8ms/step - loss: 0.0196 - mae: 0.1032 - mse: 0.0195\n",
      "Epoch 13/30\n",
      "50/50 [==============================] - 0s 8ms/step - loss: 0.0180 - mae: 0.0999 - mse: 0.0180\n",
      "Epoch 14/30\n",
      "50/50 [==============================] - 0s 8ms/step - loss: 0.0157 - mae: 0.0935 - mse: 0.0155\n",
      "Epoch 15/30\n",
      "50/50 [==============================] - 0s 8ms/step - loss: 0.0145 - mae: 0.0903 - mse: 0.0145\n",
      "Epoch 16/30\n",
      "50/50 [==============================] - 0s 8ms/step - loss: 0.0135 - mae: 0.0866 - mse: 0.0134\n",
      "Epoch 17/30\n",
      "50/50 [==============================] - 0s 8ms/step - loss: 0.0124 - mae: 0.0827 - mse: 0.0123\n",
      "Epoch 18/30\n",
      "50/50 [==============================] - 0s 9ms/step - loss: 0.0113 - mae: 0.0792 - mse: 0.0113\n",
      "Epoch 19/30\n",
      "50/50 [==============================] - 0s 9ms/step - loss: 0.0103 - mae: 0.0747 - mse: 0.0103\n",
      "Epoch 20/30\n",
      "50/50 [==============================] - 1s 15ms/step - loss: 0.0100 - mae: 0.0736 - mse: 0.0101\n",
      "Epoch 21/30\n",
      "50/50 [==============================] - 1s 12ms/step - loss: 0.0091 - mae: 0.0694 - mse: 0.0090\n",
      "Epoch 22/30\n",
      "50/50 [==============================] - 0s 8ms/step - loss: 0.0087 - mae: 0.0671 - mse: 0.0087\n",
      "Epoch 23/30\n",
      "50/50 [==============================] - 1s 14ms/step - loss: 0.0078 - mae: 0.0635 - mse: 0.0079\n",
      "Epoch 24/30\n",
      "50/50 [==============================] - 1s 11ms/step - loss: 0.0077 - mae: 0.0618 - mse: 0.0077\n",
      "Epoch 25/30\n",
      "50/50 [==============================] - 0s 8ms/step - loss: 0.0071 - mae: 0.0590 - mse: 0.0071\n",
      "Epoch 26/30\n",
      "50/50 [==============================] - 0s 8ms/step - loss: 0.0067 - mae: 0.0560 - mse: 0.0067\n",
      "Epoch 27/30\n",
      "50/50 [==============================] - 1s 11ms/step - loss: 0.0064 - mae: 0.0539 - mse: 0.0063\n",
      "Epoch 28/30\n",
      "50/50 [==============================] - 0s 8ms/step - loss: 0.0058 - mae: 0.0519 - mse: 0.0058\n",
      "Epoch 29/30\n",
      "50/50 [==============================] - 0s 7ms/step - loss: 0.0056 - mae: 0.0505 - mse: 0.0057\n",
      "Epoch 30/30\n",
      "50/50 [==============================] - 1s 10ms/step - loss: 0.0052 - mae: 0.0482 - mse: 0.0052\n"
     ]
    },
    {
     "data": {
      "text/plain": [
       "<tensorflow.python.keras.callbacks.History at 0x13ad4dac8>"
      ]
     },
     "execution_count": 105,
     "metadata": {},
     "output_type": "execute_result"
    }
   ],
   "source": [
    "EPOCHS = 30\n",
    "simple_lstm_model.fit(train_univariate, steps_per_epoch=50, epochs=EPOCHS)"
   ]
  },
  {
   "cell_type": "code",
   "execution_count": 111,
   "metadata": {},
   "outputs": [
    {
     "data": {
      "image/png": "[encoded data removed]",
      "text/plain": [
       "<Figure size 576x432 with 1 Axes>"
      ]
     },
     "metadata": {
      "needs_background": "light"
     },
     "output_type": "display_data"
    },
    {
     "data": {
      "image/png": "[encoded data removed]",
      "text/plain": [
       "<Figure size 576x432 with 1 Axes>"
      ]
     },
     "metadata": {
      "needs_background": "light"
     },
     "output_type": "display_data"
    },
    {
     "data": {
      "image/png": "[encoded data removed]",
      "text/plain": [
       "<Figure size 576x432 with 1 Axes>"
      ]
     },
     "metadata": {
      "needs_background": "light"
     },
     "output_type": "display_data"
    }
   ],
   "source": [
    "for x, y in train_univariate.shuffle(BUFFER_SIZE).take(3):\n",
    "    plot = show_plot([x[0].numpy(), y[0].numpy(),\n",
    "                    simple_lstm_model.predict(x)[0]], 0, 'Simple LSTM model')\n",
    "    plot.show()"
   ]
  },
  {
   "cell_type": "code",
   "execution_count": null,
   "metadata": {},
   "outputs": [],
   "source": []
  },
  {
   "cell_type": "code",
   "execution_count": null,
   "metadata": {},
   "outputs": [],
   "source": []
  }
 ],
 "metadata": {
  "kernelspec": {
   "display_name": "Python 3",
   "language": "python",
   "name": "python3"
  },
  "language_info": {
   "codemirror_mode": {
    "name": "ipython",
    "version": 3
   },
   "file_extension": ".py",
   "mimetype": "text/x-python",
   "name": "python",
   "nbconvert_exporter": "python",
   "pygments_lexer": "ipython3",
   "version": "3.6.10"
  }
 },
 "nbformat": 4,
 "nbformat_minor": 4
}
