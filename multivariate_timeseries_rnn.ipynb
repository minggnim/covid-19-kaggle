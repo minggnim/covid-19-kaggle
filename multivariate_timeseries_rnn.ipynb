{
 "cells": [
  {
   "cell_type": "code",
   "execution_count": 407,
   "metadata": {},
   "outputs": [],
   "source": [
    "import matplotlib as mpl\n",
    "import matplotlib.pyplot as plt\n",
    "\n",
    "import pandas as pd\n",
    "import numpy as np\n",
    "from sklearn.preprocessing import MinMaxScaler\n",
    "import random\n",
    "import tensorflow as tf\n",
    "\n",
    "\n",
    "mpl.rcParams['figure.figsize'] = (8, 6)\n",
    "mpl.rcParams['axes.grid'] = False"
   ]
  },
  {
   "cell_type": "code",
   "execution_count": 74,
   "metadata": {},
   "outputs": [],
   "source": [
    "world_population = pd.read_csv('./WorldPopulation/API_EN.POP.DNST_DS2_en_csv_v2_887474.csv')"
   ]
  },
  {
   "cell_type": "code",
   "execution_count": 322,
   "metadata": {},
   "outputs": [
    {
     "data": {
      "text/html": [
       "<div>\n",
       "<style scoped>\n",
       "    .dataframe tbody tr th:only-of-type {\n",
       "        vertical-align: middle;\n",
       "    }\n",
       "\n",
       "    .dataframe tbody tr th {\n",
       "        vertical-align: top;\n",
       "    }\n",
       "\n",
       "    .dataframe thead th {\n",
       "        text-align: right;\n",
       "    }\n",
       "</style>\n",
       "<table border=\"1\" class=\"dataframe\">\n",
       "  <thead>\n",
       "    <tr style=\"text-align: right;\">\n",
       "      <th></th>\n",
       "      <th>Country Name</th>\n",
       "      <th>Country Code</th>\n",
       "      <th>Indicator Name</th>\n",
       "      <th>Indicator Code</th>\n",
       "      <th>1960</th>\n",
       "      <th>1961</th>\n",
       "      <th>1962</th>\n",
       "      <th>1963</th>\n",
       "      <th>1964</th>\n",
       "      <th>1965</th>\n",
       "      <th>...</th>\n",
       "      <th>2010</th>\n",
       "      <th>2011</th>\n",
       "      <th>2012</th>\n",
       "      <th>2013</th>\n",
       "      <th>2014</th>\n",
       "      <th>2015</th>\n",
       "      <th>2016</th>\n",
       "      <th>2017</th>\n",
       "      <th>2018</th>\n",
       "      <th>2019</th>\n",
       "    </tr>\n",
       "  </thead>\n",
       "  <tbody>\n",
       "    <tr>\n",
       "      <th>124</th>\n",
       "      <td>Korea, Rep.</td>\n",
       "      <td>KOR</td>\n",
       "      <td>Population density (people per sq. km of land ...</td>\n",
       "      <td>EN.POP.DNST</td>\n",
       "      <td>NaN</td>\n",
       "      <td>267.112513</td>\n",
       "      <td>274.860357</td>\n",
       "      <td>282.622299</td>\n",
       "      <td>290.111497</td>\n",
       "      <td>297.581111</td>\n",
       "      <td>...</td>\n",
       "      <td>509.815967</td>\n",
       "      <td>513.804280</td>\n",
       "      <td>515.875583</td>\n",
       "      <td>517.612291</td>\n",
       "      <td>520.852499</td>\n",
       "      <td>523.525548</td>\n",
       "      <td>525.656279</td>\n",
       "      <td>527.918011</td>\n",
       "      <td>529.652104</td>\n",
       "      <td>NaN</td>\n",
       "    </tr>\n",
       "    <tr>\n",
       "      <th>191</th>\n",
       "      <td>Korea, Dem. People’s Rep.</td>\n",
       "      <td>PRK</td>\n",
       "      <td>Population density (people per sq. km of land ...</td>\n",
       "      <td>EN.POP.DNST</td>\n",
       "      <td>NaN</td>\n",
       "      <td>96.882277</td>\n",
       "      <td>98.594070</td>\n",
       "      <td>100.203206</td>\n",
       "      <td>102.004975</td>\n",
       "      <td>104.206669</td>\n",
       "      <td>...</td>\n",
       "      <td>203.877053</td>\n",
       "      <td>204.911428</td>\n",
       "      <td>205.968042</td>\n",
       "      <td>207.038053</td>\n",
       "      <td>208.103579</td>\n",
       "      <td>209.150677</td>\n",
       "      <td>210.179752</td>\n",
       "      <td>211.194959</td>\n",
       "      <td>212.190175</td>\n",
       "      <td>NaN</td>\n",
       "    </tr>\n",
       "  </tbody>\n",
       "</table>\n",
       "<p>2 rows × 64 columns</p>\n",
       "</div>"
      ],
      "text/plain": [
       "                  Country Name Country Code  \\\n",
       "124                Korea, Rep.          KOR   \n",
       "191  Korea, Dem. People’s Rep.          PRK   \n",
       "\n",
       "                                        Indicator Name Indicator Code  1960  \\\n",
       "124  Population density (people per sq. km of land ...    EN.POP.DNST   NaN   \n",
       "191  Population density (people per sq. km of land ...    EN.POP.DNST   NaN   \n",
       "\n",
       "           1961        1962        1963        1964        1965  ...  \\\n",
       "124  267.112513  274.860357  282.622299  290.111497  297.581111  ...   \n",
       "191   96.882277   98.594070  100.203206  102.004975  104.206669  ...   \n",
       "\n",
       "           2010        2011        2012        2013        2014        2015  \\\n",
       "124  509.815967  513.804280  515.875583  517.612291  520.852499  523.525548   \n",
       "191  203.877053  204.911428  205.968042  207.038053  208.103579  209.150677   \n",
       "\n",
       "           2016        2017        2018  2019  \n",
       "124  525.656279  527.918011  529.652104   NaN  \n",
       "191  210.179752  211.194959  212.190175   NaN  \n",
       "\n",
       "[2 rows x 64 columns]"
      ]
     },
     "execution_count": 322,
     "metadata": {},
     "output_type": "execute_result"
    }
   ],
   "source": [
    "world_population.loc[world_population['Country Name'].str.contains('Korea')]"
   ]
  },
  {
   "cell_type": "code",
   "execution_count": 518,
   "metadata": {},
   "outputs": [],
   "source": [
    "test = pd.merge(train_df, world_population[['Country Name', '2018']], how='left', left_on='Country/Region', right_on='Country Name')"
   ]
  },
  {
   "cell_type": "code",
   "execution_count": 528,
   "metadata": {},
   "outputs": [
    {
     "data": {
      "text/plain": [
       "US                                  3306\n",
       "Congo (Kinshasa)                      57\n",
       "Venezuela                             57\n",
       "Saint Vincent and the Grenadines      57\n",
       "Jersey                                57\n",
       "Brunei                                57\n",
       "Guadeloupe                            57\n",
       "The Bahamas                           57\n",
       "Cruise Ship                           57\n",
       "Reunion                               57\n",
       "Egypt                                 57\n",
       "Korea, South                          57\n",
       "Martinique                            57\n",
       "Russia                                57\n",
       "French Guiana                         57\n",
       "Congo (Brazzaville)                   57\n",
       "Republic of the Congo                 57\n",
       "Mayotte                               57\n",
       "Holy See                              57\n",
       "Kyrgyzstan                            57\n",
       "The Gambia                            57\n",
       "Iran                                  57\n",
       "Czechia                               57\n",
       "Taiwan*                               57\n",
       "Saint Lucia                           57\n",
       "Slovakia                              57\n",
       "Guernsey                              57\n",
       "Name: Country/Region, dtype: int64"
      ]
     },
     "execution_count": 528,
     "metadata": {},
     "output_type": "execute_result"
    }
   ],
   "source": [
    "test[test['Country Name'].isna()]['Country/Region'].value_counts()"
   ]
  },
  {
   "cell_type": "code",
   "execution_count": 494,
   "metadata": {},
   "outputs": [],
   "source": [
    "train_df = pd.read_csv(\"covid19-global-forecasting-week-1/train.csv\")\n",
    "test_df = pd.read_csv(\"covid19-global-forecasting-week-1/test.csv\")"
   ]
  },
  {
   "cell_type": "code",
   "execution_count": 514,
   "metadata": {},
   "outputs": [
    {
     "data": {
      "text/html": [
       "<div>\n",
       "<style scoped>\n",
       "    .dataframe tbody tr th:only-of-type {\n",
       "        vertical-align: middle;\n",
       "    }\n",
       "\n",
       "    .dataframe tbody tr th {\n",
       "        vertical-align: top;\n",
       "    }\n",
       "\n",
       "    .dataframe thead th {\n",
       "        text-align: right;\n",
       "    }\n",
       "</style>\n",
       "<table border=\"1\" class=\"dataframe\">\n",
       "  <thead>\n",
       "    <tr style=\"text-align: right;\">\n",
       "      <th></th>\n",
       "      <th>ForecastId</th>\n",
       "      <th>Province/State</th>\n",
       "      <th>Country/Region</th>\n",
       "      <th>Lat</th>\n",
       "      <th>Long</th>\n",
       "      <th>Date</th>\n",
       "    </tr>\n",
       "  </thead>\n",
       "  <tbody>\n",
       "    <tr>\n",
       "      <th>0</th>\n",
       "      <td>1</td>\n",
       "      <td>NaN</td>\n",
       "      <td>Afghanistan</td>\n",
       "      <td>33.0</td>\n",
       "      <td>65.0</td>\n",
       "      <td>2020-03-12</td>\n",
       "    </tr>\n",
       "    <tr>\n",
       "      <th>1</th>\n",
       "      <td>2</td>\n",
       "      <td>NaN</td>\n",
       "      <td>Afghanistan</td>\n",
       "      <td>33.0</td>\n",
       "      <td>65.0</td>\n",
       "      <td>2020-03-13</td>\n",
       "    </tr>\n",
       "    <tr>\n",
       "      <th>2</th>\n",
       "      <td>3</td>\n",
       "      <td>NaN</td>\n",
       "      <td>Afghanistan</td>\n",
       "      <td>33.0</td>\n",
       "      <td>65.0</td>\n",
       "      <td>2020-03-14</td>\n",
       "    </tr>\n",
       "    <tr>\n",
       "      <th>3</th>\n",
       "      <td>4</td>\n",
       "      <td>NaN</td>\n",
       "      <td>Afghanistan</td>\n",
       "      <td>33.0</td>\n",
       "      <td>65.0</td>\n",
       "      <td>2020-03-15</td>\n",
       "    </tr>\n",
       "    <tr>\n",
       "      <th>4</th>\n",
       "      <td>5</td>\n",
       "      <td>NaN</td>\n",
       "      <td>Afghanistan</td>\n",
       "      <td>33.0</td>\n",
       "      <td>65.0</td>\n",
       "      <td>2020-03-16</td>\n",
       "    </tr>\n",
       "  </tbody>\n",
       "</table>\n",
       "</div>"
      ],
      "text/plain": [
       "   ForecastId Province/State Country/Region   Lat  Long        Date\n",
       "0           1            NaN    Afghanistan  33.0  65.0  2020-03-12\n",
       "1           2            NaN    Afghanistan  33.0  65.0  2020-03-13\n",
       "2           3            NaN    Afghanistan  33.0  65.0  2020-03-14\n",
       "3           4            NaN    Afghanistan  33.0  65.0  2020-03-15\n",
       "4           5            NaN    Afghanistan  33.0  65.0  2020-03-16"
      ]
     },
     "execution_count": 514,
     "metadata": {},
     "output_type": "execute_result"
    }
   ],
   "source": [
    "test_df.head()"
   ]
  },
  {
   "cell_type": "code",
   "execution_count": 437,
   "metadata": {},
   "outputs": [],
   "source": [
    "data_world = train_df.groupby(['Country/Region', 'Date'])[['ConfirmedCases', 'Fatalities']].sum()"
   ]
  },
  {
   "cell_type": "code",
   "execution_count": 438,
   "metadata": {},
   "outputs": [],
   "source": [
    "data_world['Lockdown'] = 0"
   ]
  },
  {
   "cell_type": "code",
   "execution_count": 439,
   "metadata": {
    "scrolled": true
   },
   "outputs": [],
   "source": [
    "data_world.loc[(data_world.index.get_level_values('Country/Region')=='China') \n",
    "           & (data_world.index.get_level_values('Date')>='2020-01-24'), 'Lockdown'] = 1\n",
    "\n",
    "data_world.loc[(data_world.index.get_level_values('Country/Region')=='Italy') \n",
    "           & (data_world.index.get_level_values('Date')>='2020-03-09'), 'Lockdown'] = 1\n",
    "\n",
    "data_world.loc[(data_world.index.get_level_values('Country/Region')=='Iran') \n",
    "           & (data_world.index.get_level_values('Date')>='2020-03-13'), 'Lockdown'] = 1"
   ]
  },
  {
   "cell_type": "code",
   "execution_count": null,
   "metadata": {},
   "outputs": [],
   "source": [
    "# # China data\n",
    "# cn_data = train_df[train_df['Country/Region']=='China'][['Date', 'ConfirmedCases', 'Fatalities']].groupby('Date').sum().reset_index()\n",
    "# cn_data['Lockdown'] = 0\n",
    "# cn_data.iloc[2:, -1] = 1"
   ]
  },
  {
   "cell_type": "code",
   "execution_count": null,
   "metadata": {},
   "outputs": [],
   "source": [
    "# # Three countries data\n",
    "# data_sample = data_world[data_world.index.get_level_values('Country/Region').isin(['China', 'Italy', 'Iran'])]\n",
    "# data_confirm = data_sample[['ConfirmedCases', 'Lockdown']].droplevel('Country/Region')\n",
    "# data_confirm = (data_confirm - data_confirm.mean(axis=0)) / data_confirm.std(axis=0)"
   ]
  },
  {
   "cell_type": "code",
   "execution_count": null,
   "metadata": {},
   "outputs": [],
   "source": [
    "# def prepare_confirmed_data(subset, num_cols):\n",
    "#     mean = subset[num_cols].mean()\n",
    "#     subset[num_cols] = (subset[num_cols] - subset[num_cols].mean()) / subset[num_cols].std()\n",
    "#     return subset"
   ]
  },
  {
   "cell_type": "code",
   "execution_count": 441,
   "metadata": {},
   "outputs": [],
   "source": [
    "data_min = data_world.min(axis=0)\n",
    "data_max = data_world.max(axis=0)\n",
    "data_world = (data_world - data_min) / (data_max - data_min)"
   ]
  },
  {
   "cell_type": "code",
   "execution_count": 442,
   "metadata": {},
   "outputs": [
    {
     "data": {
      "text/html": [
       "<div>\n",
       "<style scoped>\n",
       "    .dataframe tbody tr th:only-of-type {\n",
       "        vertical-align: middle;\n",
       "    }\n",
       "\n",
       "    .dataframe tbody tr th {\n",
       "        vertical-align: top;\n",
       "    }\n",
       "\n",
       "    .dataframe thead th {\n",
       "        text-align: right;\n",
       "    }\n",
       "</style>\n",
       "<table border=\"1\" class=\"dataframe\">\n",
       "  <thead>\n",
       "    <tr style=\"text-align: right;\">\n",
       "      <th></th>\n",
       "      <th></th>\n",
       "      <th>ConfirmedCases</th>\n",
       "      <th>Fatalities</th>\n",
       "      <th>Lockdown</th>\n",
       "    </tr>\n",
       "    <tr>\n",
       "      <th>Country/Region</th>\n",
       "      <th>Date</th>\n",
       "      <th></th>\n",
       "      <th></th>\n",
       "      <th></th>\n",
       "    </tr>\n",
       "  </thead>\n",
       "  <tbody>\n",
       "    <tr>\n",
       "      <th rowspan=\"5\" valign=\"top\">Zambia</th>\n",
       "      <th>2020-03-14</th>\n",
       "      <td>0.000000</td>\n",
       "      <td>0.0</td>\n",
       "      <td>0.0</td>\n",
       "    </tr>\n",
       "    <tr>\n",
       "      <th>2020-03-15</th>\n",
       "      <td>0.000000</td>\n",
       "      <td>0.0</td>\n",
       "      <td>0.0</td>\n",
       "    </tr>\n",
       "    <tr>\n",
       "      <th>2020-03-16</th>\n",
       "      <td>0.000000</td>\n",
       "      <td>0.0</td>\n",
       "      <td>0.0</td>\n",
       "    </tr>\n",
       "    <tr>\n",
       "      <th>2020-03-17</th>\n",
       "      <td>0.000000</td>\n",
       "      <td>0.0</td>\n",
       "      <td>0.0</td>\n",
       "    </tr>\n",
       "    <tr>\n",
       "      <th>2020-03-18</th>\n",
       "      <td>0.000025</td>\n",
       "      <td>0.0</td>\n",
       "      <td>0.0</td>\n",
       "    </tr>\n",
       "  </tbody>\n",
       "</table>\n",
       "</div>"
      ],
      "text/plain": [
       "                           ConfirmedCases  Fatalities  Lockdown\n",
       "Country/Region Date                                            \n",
       "Zambia         2020-03-14        0.000000         0.0       0.0\n",
       "               2020-03-15        0.000000         0.0       0.0\n",
       "               2020-03-16        0.000000         0.0       0.0\n",
       "               2020-03-17        0.000000         0.0       0.0\n",
       "               2020-03-18        0.000025         0.0       0.0"
      ]
     },
     "execution_count": 442,
     "metadata": {},
     "output_type": "execute_result"
    }
   ],
   "source": [
    "data_world.tail()"
   ]
  },
  {
   "cell_type": "code",
   "execution_count": 443,
   "metadata": {},
   "outputs": [],
   "source": [
    "def multivariate_data(dataset, target, \n",
    "                      start_index, end_index, \n",
    "                      history_size, target_size, \n",
    "                      step, single_step=False):\n",
    "    data = []\n",
    "    labels = []\n",
    "\n",
    "    start_index = start_index + history_size\n",
    "    if end_index is None:\n",
    "        end_index = len(dataset) - target_size\n",
    "\n",
    "    for i in range(start_index, end_index):\n",
    "        indices = range(i-history_size, i, step)\n",
    "        data.append(dataset[indices])\n",
    "\n",
    "        if single_step:\n",
    "            labels.append(target[i+target_size])\n",
    "        else:\n",
    "            labels.append(target[i:i+target_size])\n",
    "\n",
    "    return data, labels"
   ]
  },
  {
   "cell_type": "code",
   "execution_count": 444,
   "metadata": {},
   "outputs": [
    {
     "data": {
      "text/html": [
       "<div>\n",
       "<style scoped>\n",
       "    .dataframe tbody tr th:only-of-type {\n",
       "        vertical-align: middle;\n",
       "    }\n",
       "\n",
       "    .dataframe tbody tr th {\n",
       "        vertical-align: top;\n",
       "    }\n",
       "\n",
       "    .dataframe thead th {\n",
       "        text-align: right;\n",
       "    }\n",
       "</style>\n",
       "<table border=\"1\" class=\"dataframe\">\n",
       "  <thead>\n",
       "    <tr style=\"text-align: right;\">\n",
       "      <th></th>\n",
       "      <th></th>\n",
       "      <th>ConfirmedCases</th>\n",
       "      <th>Fatalities</th>\n",
       "      <th>Lockdown</th>\n",
       "    </tr>\n",
       "    <tr>\n",
       "      <th>Country/Region</th>\n",
       "      <th>Date</th>\n",
       "      <th></th>\n",
       "      <th></th>\n",
       "      <th></th>\n",
       "    </tr>\n",
       "  </thead>\n",
       "  <tbody>\n",
       "    <tr>\n",
       "      <th rowspan=\"5\" valign=\"top\">Afghanistan</th>\n",
       "      <th>2020-01-22</th>\n",
       "      <td>0.0</td>\n",
       "      <td>0.0</td>\n",
       "      <td>0.0</td>\n",
       "    </tr>\n",
       "    <tr>\n",
       "      <th>2020-01-23</th>\n",
       "      <td>0.0</td>\n",
       "      <td>0.0</td>\n",
       "      <td>0.0</td>\n",
       "    </tr>\n",
       "    <tr>\n",
       "      <th>2020-01-24</th>\n",
       "      <td>0.0</td>\n",
       "      <td>0.0</td>\n",
       "      <td>0.0</td>\n",
       "    </tr>\n",
       "    <tr>\n",
       "      <th>2020-01-25</th>\n",
       "      <td>0.0</td>\n",
       "      <td>0.0</td>\n",
       "      <td>0.0</td>\n",
       "    </tr>\n",
       "    <tr>\n",
       "      <th>2020-01-26</th>\n",
       "      <td>0.0</td>\n",
       "      <td>0.0</td>\n",
       "      <td>0.0</td>\n",
       "    </tr>\n",
       "  </tbody>\n",
       "</table>\n",
       "</div>"
      ],
      "text/plain": [
       "                           ConfirmedCases  Fatalities  Lockdown\n",
       "Country/Region Date                                            \n",
       "Afghanistan    2020-01-22             0.0         0.0       0.0\n",
       "               2020-01-23             0.0         0.0       0.0\n",
       "               2020-01-24             0.0         0.0       0.0\n",
       "               2020-01-25             0.0         0.0       0.0\n",
       "               2020-01-26             0.0         0.0       0.0"
      ]
     },
     "execution_count": 444,
     "metadata": {},
     "output_type": "execute_result"
    }
   ],
   "source": [
    "data_world.head()"
   ]
  },
  {
   "cell_type": "code",
   "execution_count": 504,
   "metadata": {
    "scrolled": true
   },
   "outputs": [
    {
     "name": "stdout",
     "output_type": "stream",
     "text": [
      "(4727, 14, 3)\n",
      "(4727, 7)\n",
      "(1141, 14, 3)\n",
      "(1141, 7)\n"
     ]
    }
   ],
   "source": [
    "## iterate through each country and construct time series data\n",
    "random.seed(1)\n",
    "data_world.index.get_level_values('Country/Region').unique()\n",
    "num_cols= ['ConfirmedCases', 'Fatalities']\n",
    "history_data = 14\n",
    "STEP = 1\n",
    "X_train = []\n",
    "y_train = []\n",
    "X_test = []\n",
    "y_test = []\n",
    "for country in data_world.index.get_level_values('Country/Region').unique():\n",
    "    country_data = data_world.loc[country].values\n",
    "\n",
    "    data, label = multivariate_data(country_data, country_data[:,0],\n",
    "                                    0, None, history_data, 7, STEP)\n",
    "    \n",
    "    idx_test = random.sample(range(len(data)), int(len(data)*0.2))\n",
    "    idx_train = [idx for idx in range(len(data)) if idx not in idx_test]\n",
    "    \n",
    "    X_test.extend([data[idx] for idx in idx_test])\n",
    "    y_test.extend([label[idx] for idx in idx_test])\n",
    "    X_train.extend([data[idx] for idx in idx_train])\n",
    "    y_train.extend([label[idx] for idx in idx_train])\n",
    "    \n",
    "X_train = np.array(X_train)\n",
    "y_train = np.array(y_train)\n",
    "X_test = np.array(X_test)\n",
    "y_test = np.array(y_test)\n",
    "\n",
    "print(X_train.shape)\n",
    "print(y_train.shape)\n",
    "print(X_test.shape)\n",
    "print(y_test.shape)"
   ]
  },
  {
   "cell_type": "code",
   "execution_count": 505,
   "metadata": {},
   "outputs": [],
   "source": [
    "BATCH_SIZE = 100\n",
    "BUFFER_SIZE = 5000\n",
    "train_data_multi = tf.data.Dataset.from_tensor_slices((X_train, y_train))\n",
    "train_data_multi = train_data_multi.cache().shuffle(BUFFER_SIZE).batch(BATCH_SIZE).repeat()\n",
    "test_data_multi = tf.data.Dataset.from_tensor_slices((X_test, y_test))\n",
    "test_data_multi = test_data_multi.batch(BATCH_SIZE).repeat()"
   ]
  },
  {
   "cell_type": "code",
   "execution_count": 508,
   "metadata": {},
   "outputs": [],
   "source": [
    "model = tf.keras.models.Sequential()\n",
    "model.add(tf.keras.layers.LSTM(16, return_sequences=True, input_shape=X_train.shape[-2:]))\n",
    "model.add(tf.keras.layers.LSTM(8, activation='relu'))\n",
    "model.add(tf.keras.layers.Dense(7))\n",
    "\n",
    "model.compile(optimizer=tf.keras.optimizers.RMSprop(clipvalue=1.0), loss='mae', metrics=['mae', 'mse'])"
   ]
  },
  {
   "cell_type": "code",
   "execution_count": 513,
   "metadata": {
    "scrolled": true
   },
   "outputs": [
    {
     "name": "stdout",
     "output_type": "stream",
     "text": [
      "Train for 200 steps, validate for 50 steps\n",
      "Epoch 1/30\n",
      "200/200 [==============================] - 4s 22ms/step - loss: 0.0015 - mae: 0.0016 - mse: 7.3691e-05 - val_loss: 0.0016 - val_mae: 0.0016 - val_mse: 7.1226e-05\n",
      "Epoch 2/30\n",
      "200/200 [==============================] - 5s 26ms/step - loss: 0.0015 - mae: 0.0015 - mse: 6.7876e-05 - val_loss: 0.0015 - val_mae: 0.0015 - val_mse: 6.1289e-05\n",
      "Epoch 3/30\n",
      "200/200 [==============================] - 4s 22ms/step - loss: 0.0015 - mae: 0.0015 - mse: 6.7546e-05 - val_loss: 0.0021 - val_mae: 0.0022 - val_mse: 6.8484e-05\n",
      "Epoch 4/30\n",
      "200/200 [==============================] - 4s 19ms/step - loss: 0.0015 - mae: 0.0015 - mse: 5.8364e-05 - val_loss: 0.0015 - val_mae: 0.0015 - val_mse: 5.1902e-05\n",
      "Epoch 5/30\n",
      "200/200 [==============================] - 5s 24ms/step - loss: 0.0015 - mae: 0.0015 - mse: 5.4794e-05 - val_loss: 0.0025 - val_mae: 0.0026 - val_mse: 5.5076e-05\n",
      "Epoch 6/30\n",
      "200/200 [==============================] - 3s 17ms/step - loss: 0.0014 - mae: 0.0014 - mse: 5.2062e-05 - val_loss: 0.0012 - val_mae: 0.0012 - val_mse: 5.4625e-05\n",
      "Epoch 7/30\n",
      "200/200 [==============================] - 4s 20ms/step - loss: 0.0014 - mae: 0.0014 - mse: 4.8533e-05 - val_loss: 0.0012 - val_mae: 0.0012 - val_mse: 4.4635e-05\n",
      "Epoch 8/30\n",
      "200/200 [==============================] - 3s 17ms/step - loss: 0.0014 - mae: 0.0014 - mse: 4.8205e-05 - val_loss: 0.0015 - val_mae: 0.0015 - val_mse: 4.8319e-05\n",
      "Epoch 9/30\n",
      "200/200 [==============================] - 3s 17ms/step - loss: 0.0014 - mae: 0.0014 - mse: 4.5202e-05 - val_loss: 0.0013 - val_mae: 0.0013 - val_mse: 4.7161e-05\n",
      "Epoch 10/30\n",
      "200/200 [==============================] - 4s 19ms/step - loss: 0.0014 - mae: 0.0014 - mse: 4.4238e-05 - val_loss: 0.0014 - val_mae: 0.0014 - val_mse: 4.2274e-05\n",
      "Epoch 11/30\n",
      "200/200 [==============================] - 4s 19ms/step - loss: 0.0014 - mae: 0.0014 - mse: 4.2658e-05 - val_loss: 0.0012 - val_mae: 0.0012 - val_mse: 4.1783e-05\n",
      "Epoch 12/30\n",
      "200/200 [==============================] - 4s 18ms/step - loss: 0.0014 - mae: 0.0014 - mse: 4.0562e-05 - val_loss: 0.0012 - val_mae: 0.0012 - val_mse: 3.9823e-05\n",
      "Epoch 13/30\n",
      "200/200 [==============================] - 4s 22ms/step - loss: 0.0013 - mae: 0.0013 - mse: 3.8493e-05 - val_loss: 0.0013 - val_mae: 0.0013 - val_mse: 4.6196e-05\n",
      "Epoch 14/30\n",
      "200/200 [==============================] - 7s 35ms/step - loss: 0.0013 - mae: 0.0013 - mse: 3.7819e-05 - val_loss: 0.0014 - val_mae: 0.0014 - val_mse: 4.4941e-05\n",
      "Epoch 15/30\n",
      "200/200 [==============================] - 6s 31ms/step - loss: 0.0014 - mae: 0.0014 - mse: 3.6359e-05 - val_loss: 0.0013 - val_mae: 0.0014 - val_mse: 3.6480e-05\n",
      "Epoch 16/30\n",
      "200/200 [==============================] - 6s 32ms/step - loss: 0.0013 - mae: 0.0013 - mse: 3.6339e-05 - val_loss: 0.0011 - val_mae: 0.0011 - val_mse: 3.9476e-05\n",
      "Epoch 17/30\n",
      "200/200 [==============================] - 4s 21ms/step - loss: 0.0013 - mae: 0.0013 - mse: 3.4364e-05 - val_loss: 0.0013 - val_mae: 0.0013 - val_mse: 3.7389e-05\n",
      "Epoch 18/30\n",
      "200/200 [==============================] - 4s 20ms/step - loss: 0.0013 - mae: 0.0013 - mse: 3.4272e-05 - val_loss: 0.0013 - val_mae: 0.0013 - val_mse: 4.0134e-05\n",
      "Epoch 19/30\n",
      "200/200 [==============================] - 4s 19ms/step - loss: 0.0013 - mae: 0.0013 - mse: 3.4113e-05 - val_loss: 0.0012 - val_mae: 0.0012 - val_mse: 4.2347e-05\n",
      "Epoch 20/30\n",
      "200/200 [==============================] - 4s 21ms/step - loss: 0.0013 - mae: 0.0014 - mse: 3.3696e-05 - val_loss: 0.0015 - val_mae: 0.0016 - val_mse: 3.5867e-05\n",
      "Epoch 21/30\n",
      "200/200 [==============================] - 4s 21ms/step - loss: 0.0013 - mae: 0.0013 - mse: 3.2216e-05 - val_loss: 0.0011 - val_mae: 0.0011 - val_mse: 3.5842e-05\n",
      "Epoch 22/30\n",
      "200/200 [==============================] - 4s 22ms/step - loss: 0.0013 - mae: 0.0013 - mse: 3.0150e-05 - val_loss: 0.0012 - val_mae: 0.0012 - val_mse: 3.8195e-05\n",
      "Epoch 23/30\n",
      "200/200 [==============================] - 5s 23ms/step - loss: 0.0013 - mae: 0.0013 - mse: 3.0833e-05 - val_loss: 0.0012 - val_mae: 0.0013 - val_mse: 3.4049e-05\n",
      "Epoch 24/30\n",
      "200/200 [==============================] - 4s 22ms/step - loss: 0.0012 - mae: 0.0012 - mse: 2.9147e-05 - val_loss: 0.0012 - val_mae: 0.0012 - val_mse: 4.2577e-05\n",
      "Epoch 25/30\n",
      "200/200 [==============================] - 4s 20ms/step - loss: 0.0013 - mae: 0.0013 - mse: 2.9005e-05 - val_loss: 0.0011 - val_mae: 0.0011 - val_mse: 3.4678e-05\n",
      "Epoch 26/30\n",
      "200/200 [==============================] - 4s 21ms/step - loss: 0.0012 - mae: 0.0012 - mse: 2.8140e-05 - val_loss: 0.0011 - val_mae: 0.0011 - val_mse: 4.2543e-05\n",
      "Epoch 27/30\n",
      "200/200 [==============================] - 5s 24ms/step - loss: 0.0013 - mae: 0.0013 - mse: 2.7936e-05 - val_loss: 0.0014 - val_mae: 0.0015 - val_mse: 3.4780e-05\n",
      "Epoch 28/30\n",
      "200/200 [==============================] - 4s 20ms/step - loss: 0.0013 - mae: 0.0013 - mse: 2.8159e-05 - val_loss: 0.0014 - val_mae: 0.0014 - val_mse: 4.3003e-05\n",
      "Epoch 29/30\n",
      "200/200 [==============================] - 4s 19ms/step - loss: 0.0013 - mae: 0.0013 - mse: 2.6503e-05 - val_loss: 0.0014 - val_mae: 0.0014 - val_mse: 3.5333e-05\n",
      "Epoch 30/30\n",
      "200/200 [==============================] - 4s 21ms/step - loss: 0.0012 - mae: 0.0012 - mse: 2.6338e-05 - val_loss: 0.0012 - val_mae: 0.0012 - val_mse: 3.3328e-05\n"
     ]
    }
   ],
   "source": [
    "history = model.fit(train_data_multi, steps_per_epoch=200, \n",
    "                     validation_data=test_data_multi,\n",
    "                     validation_steps=50, epochs=30)"
   ]
  },
  {
   "cell_type": "code",
   "execution_count": 510,
   "metadata": {},
   "outputs": [
    {
     "data": {
      "image/png": "[encoded data removed]",
      "text/plain": [
       "<Figure size 576x432 with 1 Axes>"
      ]
     },
     "metadata": {
      "needs_background": "light"
     },
     "output_type": "display_data"
    }
   ],
   "source": [
    "def plot_train_history(history, title):\n",
    "    loss = history.history['loss']\n",
    "    val_loss = history.history['val_loss']\n",
    "    epochs = range(len(loss))\n",
    "    \n",
    "    \n",
    "    plt.figure()\n",
    "    plt.plot(epochs, loss, 'b', label='Training loss')\n",
    "    plt.plot(epochs, val_loss, 'r', label='Validation loss')\n",
    "    plt.title(title)\n",
    "    plt.legend()\n",
    "    plt.show()\n",
    "\n",
    "plot_train_history(history, 'Multi-Step Training and validation loss')"
   ]
  },
  {
   "cell_type": "code",
   "execution_count": 511,
   "metadata": {},
   "outputs": [],
   "source": [
    "def create_time_steps(length):\n",
    "    return list(range(-length, 0))\n",
    "\n",
    "def multi_step_plot(history, true_future, prediction):\n",
    "    plt.figure(figsize=(12, 6))\n",
    "    num_in = create_time_steps(len(history))\n",
    "    num_out = len(true_future)\n",
    "\n",
    "    plt.plot(num_in, np.array(history[:, 1]), label='History')\n",
    "    plt.plot(np.arange(num_out)/STEP, np.array(true_future), 'bo',\n",
    "           label='True Future')\n",
    "    if prediction.any():\n",
    "        plt.plot(np.arange(num_out)/STEP, np.array(prediction), 'ro',\n",
    "                 label='Predicted Future')\n",
    "    plt.legend(loc='upper left')\n",
    "    plt.show()"
   ]
  },
  {
   "cell_type": "code",
   "execution_count": 512,
   "metadata": {},
   "outputs": [
    {
     "data": {
      "image/png": "[encoded data removed]",
      "text/plain": [
       "<Figure size 864x432 with 1 Axes>"
      ]
     },
     "metadata": {
      "needs_background": "light"
     },
     "output_type": "display_data"
    },
    {
     "data": {
      "image/png": "[encoded data removed]",
      "text/plain": [
       "<Figure size 864x432 with 1 Axes>"
      ]
     },
     "metadata": {
      "needs_background": "light"
     },
     "output_type": "display_data"
    },
    {
     "data": {
      "image/png": "[encoded data removed]",
      "text/plain": [
       "<Figure size 864x432 with 1 Axes>"
      ]
     },
     "metadata": {
      "needs_background": "light"
     },
     "output_type": "display_data"
    }
   ],
   "source": [
    "for x, y in test_data_multi.shuffle(1000).take(3):\n",
    "    multi_step_plot(x[0], y[0], model.predict(x)[0])"
   ]
  },
  {
   "cell_type": "code",
   "execution_count": 293,
   "metadata": {},
   "outputs": [],
   "source": []
  }
 ],
 "metadata": {
  "kernelspec": {
   "display_name": "Python 3",
   "language": "python",
   "name": "python3"
  },
  "language_info": {
   "codemirror_mode": {
    "name": "ipython",
    "version": 3
   },
   "file_extension": ".py",
   "mimetype": "text/x-python",
   "name": "python",
   "nbconvert_exporter": "python",
   "pygments_lexer": "ipython3",
   "version": "3.6.10"
  }
 },
 "nbformat": 4,
 "nbformat_minor": 4
}
